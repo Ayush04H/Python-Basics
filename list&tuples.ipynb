{
  "nbformat": 4,
  "nbformat_minor": 0,
  "metadata": {
    "colab": {
      "provenance": [],
      "authorship_tag": "ABX9TyNCovepbAPWwAXK4olymb10",
      "include_colab_link": true
    },
    "kernelspec": {
      "name": "python3",
      "display_name": "Python 3"
    },
    "language_info": {
      "name": "python"
    }
  },
  "cells": [
    {
      "cell_type": "markdown",
      "metadata": {
        "id": "view-in-github",
        "colab_type": "text"
      },
      "source": [
        "<a href=\"https://colab.research.google.com/github/Ayush04H/Python-Basics/blob/main/list%26tuples.ipynb\" target=\"_parent\"><img src=\"https://colab.research.google.com/assets/colab-badge.svg\" alt=\"Open In Colab\"/></a>"
      ]
    },
    {
      "cell_type": "markdown",
      "source": [
        "# **List**"
      ],
      "metadata": {
        "id": "5oQmLHE8z9Er"
      }
    },
    {
      "cell_type": "code",
      "execution_count": 1,
      "metadata": {
        "id": "F1Ibn6freRc4",
        "colab": {
          "base_uri": "https://localhost:8080/"
        },
        "outputId": "449b81c4-81f1-4bde-f0dc-9552804a70ed"
      },
      "outputs": [
        {
          "output_type": "stream",
          "name": "stdout",
          "text": [
            "[]\n"
          ]
        }
      ],
      "source": [
        "animals=[]\n",
        "print(animals)"
      ]
    },
    {
      "cell_type": "code",
      "source": [
        "animals=['a','b','c','d','e','f']\n",
        "print(animals)"
      ],
      "metadata": {
        "colab": {
          "base_uri": "https://localhost:8080/"
        },
        "id": "XeQQ1r8Eisuu",
        "outputId": "0fa1143d-9854-4f97-84ad-fcae25a4f81f"
      },
      "execution_count": 2,
      "outputs": [
        {
          "output_type": "stream",
          "name": "stdout",
          "text": [
            "['a', 'b', 'c', 'd', 'e', 'f']\n"
          ]
        }
      ]
    },
    {
      "cell_type": "code",
      "source": [
        "animals[0]"
      ],
      "metadata": {
        "colab": {
          "base_uri": "https://localhost:8080/",
          "height": 36
        },
        "id": "io2q25Obizmj",
        "outputId": "61ac4ebf-8030-45ea-926c-e49eeb03bb91"
      },
      "execution_count": 3,
      "outputs": [
        {
          "output_type": "execute_result",
          "data": {
            "text/plain": [
              "'a'"
            ],
            "application/vnd.google.colaboratory.intrinsic+json": {
              "type": "string"
            }
          },
          "metadata": {},
          "execution_count": 3
        }
      ]
    },
    {
      "cell_type": "code",
      "source": [
        "list1=[10,20.4,'Hello',54]\n",
        "list1[2]=60\n",
        "list1.insert(4,10)\n",
        "list1.sort()\n",
        "list1.append(12)\n",
        "list1.reverse()\n",
        "list1"
      ],
      "metadata": {
        "colab": {
          "base_uri": "https://localhost:8080/"
        },
        "id": "SxLvzE4ji801",
        "outputId": "7e1f9eaa-54c4-4faf-8f2e-059daaf1afbb"
      },
      "execution_count": 4,
      "outputs": [
        {
          "output_type": "execute_result",
          "data": {
            "text/plain": [
              "[12, 60, 54, 20.4, 10, 10]"
            ]
          },
          "metadata": {},
          "execution_count": 4
        }
      ]
    },
    {
      "cell_type": "code",
      "source": [
        "num=[1,2,3,4,5,9,7,8,9,10]\n",
        "del num[2]\n",
        "num"
      ],
      "metadata": {
        "colab": {
          "base_uri": "https://localhost:8080/"
        },
        "id": "2kMgRgdnofaK",
        "outputId": "f4f67bc7-ad4a-4fb8-8eef-199a2410d908"
      },
      "execution_count": 5,
      "outputs": [
        {
          "output_type": "execute_result",
          "data": {
            "text/plain": [
              "[1, 2, 4, 5, 9, 7, 8, 9, 10]"
            ]
          },
          "metadata": {},
          "execution_count": 5
        }
      ]
    },
    {
      "cell_type": "code",
      "source": [
        "del num\n"
      ],
      "metadata": {
        "id": "FLfXPEIsosGq"
      },
      "execution_count": 6,
      "outputs": []
    },
    {
      "cell_type": "code",
      "source": [
        "list2=[[10,20],[40,30]]\n",
        "list2"
      ],
      "metadata": {
        "colab": {
          "base_uri": "https://localhost:8080/"
        },
        "id": "0h9HUDCWjZC9",
        "outputId": "700ba351-332f-440d-dbca-5d26de12eac1"
      },
      "execution_count": 7,
      "outputs": [
        {
          "output_type": "execute_result",
          "data": {
            "text/plain": [
              "[[10, 20], [40, 30]]"
            ]
          },
          "metadata": {},
          "execution_count": 7
        }
      ]
    },
    {
      "cell_type": "code",
      "source": [
        "print(list2[0])\n",
        "print(list2[1])\n",
        "print(list2[0][0])\n",
        "print(list2[0][1])\n",
        "print(list2[1][0])\n",
        "print(list2[1][1])"
      ],
      "metadata": {
        "colab": {
          "base_uri": "https://localhost:8080/"
        },
        "id": "uBfyQOlnjicM",
        "outputId": "f5601093-5c64-46ab-b903-9665ee066486"
      },
      "execution_count": 8,
      "outputs": [
        {
          "output_type": "stream",
          "name": "stdout",
          "text": [
            "[10, 20]\n",
            "[40, 30]\n",
            "10\n",
            "20\n",
            "40\n",
            "30\n"
          ]
        }
      ]
    },
    {
      "cell_type": "code",
      "source": [
        "num=[10,20,30,40,50,60,70,80,90,100]\n",
        "for i in num:\n",
        "  print(i)"
      ],
      "metadata": {
        "colab": {
          "base_uri": "https://localhost:8080/"
        },
        "id": "cgzOc2evkNBu",
        "outputId": "92ea94c8-0cd1-4f85-b001-abb75f4f6d22"
      },
      "execution_count": 9,
      "outputs": [
        {
          "output_type": "stream",
          "name": "stdout",
          "text": [
            "10\n",
            "20\n",
            "30\n",
            "40\n",
            "50\n",
            "60\n",
            "70\n",
            "80\n",
            "90\n",
            "100\n"
          ]
        }
      ]
    },
    {
      "cell_type": "code",
      "source": [
        "sum=0\n",
        "for i in num:\n",
        "  sum+=i\n",
        "\n",
        "print(sum)"
      ],
      "metadata": {
        "colab": {
          "base_uri": "https://localhost:8080/"
        },
        "id": "aX0E38C708lB",
        "outputId": "5da6dbab-36cf-4232-bc2e-01c5563a242a"
      },
      "execution_count": 10,
      "outputs": [
        {
          "output_type": "stream",
          "name": "stdout",
          "text": [
            "550\n"
          ]
        }
      ]
    },
    {
      "cell_type": "markdown",
      "source": [
        "# **Tuple**"
      ],
      "metadata": {
        "id": "I9YvQS1w1jOq"
      }
    },
    {
      "cell_type": "code",
      "source": [
        "t1=('a','b','c','cd','e','c')\n",
        "print(t1)\n",
        "print(type(t1))"
      ],
      "metadata": {
        "colab": {
          "base_uri": "https://localhost:8080/"
        },
        "id": "1OMKEEb71le5",
        "outputId": "ddfa55b4-85c4-48f6-8bb5-455a6d27cd27"
      },
      "execution_count": 11,
      "outputs": [
        {
          "output_type": "stream",
          "name": "stdout",
          "text": [
            "('a', 'b', 'c', 'cd', 'e', 'c')\n",
            "<class 'tuple'>\n"
          ]
        }
      ]
    },
    {
      "cell_type": "code",
      "source": [
        "t2=((1,2,3),(4,5,6),(7,8,9))\n",
        "print(t2)\n",
        "print(t2[0])\n",
        "print(t2[0][2])"
      ],
      "metadata": {
        "colab": {
          "base_uri": "https://localhost:8080/"
        },
        "id": "lgYf-_Ki13fp",
        "outputId": "c96fe1a9-1a94-4e5d-8e4d-0f27798f2c70"
      },
      "execution_count": 12,
      "outputs": [
        {
          "output_type": "stream",
          "name": "stdout",
          "text": [
            "((1, 2, 3), (4, 5, 6), (7, 8, 9))\n",
            "(1, 2, 3)\n",
            "3\n"
          ]
        }
      ]
    },
    {
      "cell_type": "markdown",
      "source": [
        "# **Sequences in python**"
      ],
      "metadata": {
        "id": "iFRWWt4X27xI"
      }
    },
    {
      "cell_type": "markdown",
      "source": [
        "length"
      ],
      "metadata": {
        "id": "3gN15Ovh4hIs"
      }
    },
    {
      "cell_type": "code",
      "source": [
        "a=\"Ayush\"\n",
        "b=[[1,2],[3,4],[9,80,8],[8,9,6,3,5,8,4,5],[8,9,6,3,25,7,4,1,45]]\n",
        "c=((5,6,9,0,8,9),(7,8),(9,8),(11,12),(12,13,14))\n",
        "print(len(a))\n",
        "print(len(b))\n",
        "print(len(c[0]))"
      ],
      "metadata": {
        "colab": {
          "base_uri": "https://localhost:8080/"
        },
        "id": "RIqq8Ryq3CkB",
        "outputId": "661bd7e2-2813-4350-a8bd-85c0afeed5c6"
      },
      "execution_count": 13,
      "outputs": [
        {
          "output_type": "stream",
          "name": "stdout",
          "text": [
            "5\n",
            "5\n",
            "6\n"
          ]
        }
      ]
    },
    {
      "cell_type": "markdown",
      "source": [
        "select"
      ],
      "metadata": {
        "id": "hSKkdIgd4jjw"
      }
    },
    {
      "cell_type": "code",
      "source": [
        "print(a[0])\n",
        "print(b[0])\n",
        "print(c[0])"
      ],
      "metadata": {
        "colab": {
          "base_uri": "https://localhost:8080/"
        },
        "id": "1_WTPe0o4l_Z",
        "outputId": "3ca90851-8750-4938-8154-3d41af00bca3"
      },
      "execution_count": 14,
      "outputs": [
        {
          "output_type": "stream",
          "name": "stdout",
          "text": [
            "A\n",
            "[1, 2]\n",
            "(5, 6, 9, 0, 8, 9)\n"
          ]
        }
      ]
    },
    {
      "cell_type": "markdown",
      "source": [
        "Slicing"
      ],
      "metadata": {
        "id": "AkQNu3Xs5vSG"
      }
    },
    {
      "cell_type": "code",
      "source": [
        "print(a[1:4])\n",
        "print(b[0:4])\n",
        "print(c[1:3])"
      ],
      "metadata": {
        "colab": {
          "base_uri": "https://localhost:8080/"
        },
        "id": "Mtxc_FMc5Iyw",
        "outputId": "097c6f7d-8945-4b6f-8b7a-ef91191fd171"
      },
      "execution_count": 15,
      "outputs": [
        {
          "output_type": "stream",
          "name": "stdout",
          "text": [
            "yus\n",
            "[[1, 2], [3, 4], [9, 80, 8], [8, 9, 6, 3, 5, 8, 4, 5]]\n",
            "((7, 8), (9, 8))\n"
          ]
        }
      ]
    },
    {
      "cell_type": "markdown",
      "source": [
        "Count"
      ],
      "metadata": {
        "id": "64osMyClx0tW"
      }
    },
    {
      "cell_type": "code",
      "source": [
        "b=[1,2,3,4,5,6,3,5,6,9,3]"
      ],
      "metadata": {
        "id": "OIc_NnJKymnW"
      },
      "execution_count": 18,
      "outputs": []
    },
    {
      "cell_type": "code",
      "source": [
        "print(a.count('A'))\n",
        "print(b.count(3))\n",
        "print(c.count(12))"
      ],
      "metadata": {
        "colab": {
          "base_uri": "https://localhost:8080/"
        },
        "id": "RmY9MPQSyACw",
        "outputId": "5f302deb-9512-421b-ffbd-ef3762cb4fdd"
      },
      "execution_count": 19,
      "outputs": [
        {
          "output_type": "stream",
          "name": "stdout",
          "text": [
            "1\n",
            "3\n",
            "0\n"
          ]
        }
      ]
    },
    {
      "cell_type": "code",
      "source": [
        "'A' in a\n",
        "'a' in a"
      ],
      "metadata": {
        "colab": {
          "base_uri": "https://localhost:8080/"
        },
        "id": "TonLYGir0a54",
        "outputId": "2cb3e6ad-497c-4b98-8fcb-430c033a60d3"
      },
      "execution_count": 21,
      "outputs": [
        {
          "output_type": "execute_result",
          "data": {
            "text/plain": [
              "False"
            ]
          },
          "metadata": {},
          "execution_count": 21
        }
      ]
    }
  ]
}