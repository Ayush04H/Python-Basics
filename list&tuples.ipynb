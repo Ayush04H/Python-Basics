{
  "nbformat": 4,
  "nbformat_minor": 0,
  "metadata": {
    "colab": {
      "provenance": [],
      "authorship_tag": "ABX9TyPEj5CIbVUowmG8MsZPoCq7",
      "include_colab_link": true
    },
    "kernelspec": {
      "name": "python3",
      "display_name": "Python 3"
    },
    "language_info": {
      "name": "python"
    }
  },
  "cells": [
    {
      "cell_type": "markdown",
      "metadata": {
        "id": "view-in-github",
        "colab_type": "text"
      },
      "source": [
        "<a href=\"https://colab.research.google.com/github/Ayush04H/Python-Basics/blob/main/list%26tuples.ipynb\" target=\"_parent\"><img src=\"https://colab.research.google.com/assets/colab-badge.svg\" alt=\"Open In Colab\"/></a>"
      ]
    },
    {
      "cell_type": "markdown",
      "source": [
        "# **List**"
      ],
      "metadata": {
        "id": "5oQmLHE8z9Er"
      }
    },
    {
      "cell_type": "code",
      "execution_count": 1,
      "metadata": {
        "id": "F1Ibn6freRc4",
        "colab": {
          "base_uri": "https://localhost:8080/"
        },
        "outputId": "1208cb23-5393-4c2b-9e6a-2ff648d7f4ef"
      },
      "outputs": [
        {
          "output_type": "stream",
          "name": "stdout",
          "text": [
            "[]\n"
          ]
        }
      ],
      "source": [
        "animals=[]\n",
        "print(animals)"
      ]
    },
    {
      "cell_type": "code",
      "source": [
        "animals=['a','b','c','d','e','f']\n",
        "print(animals)"
      ],
      "metadata": {
        "colab": {
          "base_uri": "https://localhost:8080/"
        },
        "id": "XeQQ1r8Eisuu",
        "outputId": "c4022428-06d5-4df3-b9ef-5e82050d71a0"
      },
      "execution_count": 2,
      "outputs": [
        {
          "output_type": "stream",
          "name": "stdout",
          "text": [
            "['a', 'b', 'c', 'd', 'e', 'f']\n"
          ]
        }
      ]
    },
    {
      "cell_type": "code",
      "source": [
        "animals[0]"
      ],
      "metadata": {
        "colab": {
          "base_uri": "https://localhost:8080/",
          "height": 36
        },
        "id": "io2q25Obizmj",
        "outputId": "67dbaa6e-c57e-41a5-93e9-4ff3e00c5486"
      },
      "execution_count": 3,
      "outputs": [
        {
          "output_type": "execute_result",
          "data": {
            "text/plain": [
              "'a'"
            ],
            "application/vnd.google.colaboratory.intrinsic+json": {
              "type": "string"
            }
          },
          "metadata": {},
          "execution_count": 3
        }
      ]
    },
    {
      "cell_type": "code",
      "source": [
        "list1=[10,20.4,'Hello',54]\n",
        "list1[2]=60\n",
        "list1.insert(4,10)\n",
        "list1.sort()\n",
        "list1.append(12)\n",
        "list1.reverse()\n",
        "list1"
      ],
      "metadata": {
        "colab": {
          "base_uri": "https://localhost:8080/"
        },
        "id": "SxLvzE4ji801",
        "outputId": "56d6be1b-4ebb-40b9-c43f-96ea79854279"
      },
      "execution_count": 4,
      "outputs": [
        {
          "output_type": "execute_result",
          "data": {
            "text/plain": [
              "[12, 60, 54, 20.4, 10, 10]"
            ]
          },
          "metadata": {},
          "execution_count": 4
        }
      ]
    },
    {
      "cell_type": "code",
      "source": [
        "num=[1,2,3,4,5,9,7,8,9,10]\n",
        "del num[2]\n",
        "num"
      ],
      "metadata": {
        "colab": {
          "base_uri": "https://localhost:8080/"
        },
        "id": "2kMgRgdnofaK",
        "outputId": "8fc7af68-5cfb-4179-b218-0c709f730689"
      },
      "execution_count": 5,
      "outputs": [
        {
          "output_type": "execute_result",
          "data": {
            "text/plain": [
              "[1, 2, 4, 5, 9, 7, 8, 9, 10]"
            ]
          },
          "metadata": {},
          "execution_count": 5
        }
      ]
    },
    {
      "cell_type": "code",
      "source": [
        "del num\n"
      ],
      "metadata": {
        "id": "FLfXPEIsosGq"
      },
      "execution_count": 6,
      "outputs": []
    },
    {
      "cell_type": "code",
      "source": [
        "list2=[[10,20],[40,30]]\n",
        "list2"
      ],
      "metadata": {
        "colab": {
          "base_uri": "https://localhost:8080/"
        },
        "id": "0h9HUDCWjZC9",
        "outputId": "f045e9c8-ba9c-483b-935a-0560840bb7c8"
      },
      "execution_count": 7,
      "outputs": [
        {
          "output_type": "execute_result",
          "data": {
            "text/plain": [
              "[[10, 20], [40, 30]]"
            ]
          },
          "metadata": {},
          "execution_count": 7
        }
      ]
    },
    {
      "cell_type": "code",
      "source": [
        "print(list2[0])\n",
        "print(list2[1])\n",
        "print(list2[0][0])\n",
        "print(list2[0][1])\n",
        "print(list2[1][0])\n",
        "print(list2[1][1])"
      ],
      "metadata": {
        "colab": {
          "base_uri": "https://localhost:8080/"
        },
        "id": "uBfyQOlnjicM",
        "outputId": "aa29e9a4-955d-4048-d377-390d525dc436"
      },
      "execution_count": 8,
      "outputs": [
        {
          "output_type": "stream",
          "name": "stdout",
          "text": [
            "[10, 20]\n",
            "[40, 30]\n",
            "10\n",
            "20\n",
            "40\n",
            "30\n"
          ]
        }
      ]
    },
    {
      "cell_type": "code",
      "source": [
        "num=[10,20,30,40,50,60,70,80,90,100]\n",
        "for i in num:\n",
        "  print(i)"
      ],
      "metadata": {
        "colab": {
          "base_uri": "https://localhost:8080/"
        },
        "id": "cgzOc2evkNBu",
        "outputId": "b9496f9e-c0ed-4456-c50e-90c26586266a"
      },
      "execution_count": 9,
      "outputs": [
        {
          "output_type": "stream",
          "name": "stdout",
          "text": [
            "10\n",
            "20\n",
            "30\n",
            "40\n",
            "50\n",
            "60\n",
            "70\n",
            "80\n",
            "90\n",
            "100\n"
          ]
        }
      ]
    },
    {
      "cell_type": "code",
      "source": [
        "sum=0\n",
        "for i in num:\n",
        "  sum+=i\n",
        "\n",
        "print(sum)"
      ],
      "metadata": {
        "colab": {
          "base_uri": "https://localhost:8080/"
        },
        "id": "aX0E38C708lB",
        "outputId": "9b2b197d-42b5-49fd-8840-b605c87aa216"
      },
      "execution_count": 10,
      "outputs": [
        {
          "output_type": "stream",
          "name": "stdout",
          "text": [
            "550\n"
          ]
        }
      ]
    },
    {
      "cell_type": "markdown",
      "source": [
        "# **Tuple**"
      ],
      "metadata": {
        "id": "I9YvQS1w1jOq"
      }
    },
    {
      "cell_type": "code",
      "source": [
        "t1=('a','b','c','cd','e','c')\n",
        "print(t1)\n",
        "print(type(t1))"
      ],
      "metadata": {
        "colab": {
          "base_uri": "https://localhost:8080/"
        },
        "id": "1OMKEEb71le5",
        "outputId": "9d2884f8-19bf-48cc-81bc-d7315e61b6af"
      },
      "execution_count": 12,
      "outputs": [
        {
          "output_type": "stream",
          "name": "stdout",
          "text": [
            "('a', 'b', 'c', 'cd', 'e', 'c')\n",
            "<class 'tuple'>\n"
          ]
        }
      ]
    },
    {
      "cell_type": "code",
      "source": [
        "t2=((1,2,3),(4,5,6),(7,8,9))\n",
        "print(t2)\n",
        "print(t2[0])\n",
        "print(t2[0][2])"
      ],
      "metadata": {
        "colab": {
          "base_uri": "https://localhost:8080/"
        },
        "id": "lgYf-_Ki13fp",
        "outputId": "d006f92c-4a09-4af5-b13b-d4af9bc09a46"
      },
      "execution_count": 17,
      "outputs": [
        {
          "output_type": "stream",
          "name": "stdout",
          "text": [
            "((1, 2, 3), (4, 5, 6), (7, 8, 9))\n",
            "(1, 2, 3)\n",
            "3\n"
          ]
        }
      ]
    },
    {
      "cell_type": "markdown",
      "source": [
        "# **Sequences in python**"
      ],
      "metadata": {
        "id": "iFRWWt4X27xI"
      }
    },
    {
      "cell_type": "markdown",
      "source": [
        "length"
      ],
      "metadata": {
        "id": "3gN15Ovh4hIs"
      }
    },
    {
      "cell_type": "code",
      "source": [
        "a=\"Ayush\"\n",
        "b=[[1,2],[3,4],[9,80,8],[8,9,6,3,5,8,4,5],[8,9,6,3,25,7,4,1,45]]\n",
        "c=((5,6,9,0,8,9),(7,8),(9,8),(11,12),(12,13,14))\n",
        "print(len(a))\n",
        "print(len(b))\n",
        "print(len(c[0]))"
      ],
      "metadata": {
        "colab": {
          "base_uri": "https://localhost:8080/"
        },
        "id": "RIqq8Ryq3CkB",
        "outputId": "d0abb058-8edd-4b62-f43f-cb0c96ee039a"
      },
      "execution_count": 30,
      "outputs": [
        {
          "output_type": "stream",
          "name": "stdout",
          "text": [
            "5\n",
            "5\n",
            "6\n"
          ]
        }
      ]
    },
    {
      "cell_type": "markdown",
      "source": [
        "select"
      ],
      "metadata": {
        "id": "hSKkdIgd4jjw"
      }
    },
    {
      "cell_type": "code",
      "source": [
        "print(a[0])\n",
        "print(b[0])\n",
        "print(c[0])"
      ],
      "metadata": {
        "colab": {
          "base_uri": "https://localhost:8080/"
        },
        "id": "1_WTPe0o4l_Z",
        "outputId": "76585e6f-4fd7-4684-8bf8-5c7374ce04a9"
      },
      "execution_count": 31,
      "outputs": [
        {
          "output_type": "stream",
          "name": "stdout",
          "text": [
            "A\n",
            "[1, 2]\n",
            "(5, 6, 9, 0, 8, 9)\n"
          ]
        }
      ]
    },
    {
      "cell_type": "markdown",
      "source": [
        "Slicing"
      ],
      "metadata": {
        "id": "AkQNu3Xs5vSG"
      }
    },
    {
      "cell_type": "code",
      "source": [
        "print(a[1:4])\n",
        "print(b[0:4])\n",
        "print(c[1:3])"
      ],
      "metadata": {
        "colab": {
          "base_uri": "https://localhost:8080/"
        },
        "id": "Mtxc_FMc5Iyw",
        "outputId": "5e19c3ef-84e4-4091-933f-df97bfcc11af"
      },
      "execution_count": 34,
      "outputs": [
        {
          "output_type": "stream",
          "name": "stdout",
          "text": [
            "yus\n",
            "[[1, 2], [3, 4], [9, 80, 8], [8, 9, 6, 3, 5, 8, 4, 5]]\n",
            "((7, 8), (9, 8))\n"
          ]
        }
      ]
    }
  ]
}