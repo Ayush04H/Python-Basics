{
  "nbformat": 4,
  "nbformat_minor": 0,
  "metadata": {
    "colab": {
      "provenance": [],
      "authorship_tag": "ABX9TyOanXIW+NIhQBowxz3w/ubl",
      "include_colab_link": true
    },
    "kernelspec": {
      "name": "python3",
      "display_name": "Python 3"
    },
    "language_info": {
      "name": "python"
    }
  },
  "cells": [
    {
      "cell_type": "markdown",
      "metadata": {
        "id": "view-in-github",
        "colab_type": "text"
      },
      "source": [
        "<a href=\"https://colab.research.google.com/github/Ayush04H/Python-Basics/blob/main/Stack.ipynb\" target=\"_parent\"><img src=\"https://colab.research.google.com/assets/colab-badge.svg\" alt=\"Open In Colab\"/></a>"
      ]
    },
    {
      "cell_type": "markdown",
      "source": [
        "# **Stack Implementation using List**"
      ],
      "metadata": {
        "id": "hlzXRU4R3pD5"
      }
    },
    {
      "cell_type": "code",
      "execution_count": null,
      "metadata": {
        "colab": {
          "base_uri": "https://localhost:8080/"
        },
        "id": "VJNgGw8ZzWzr",
        "outputId": "c9b64deb-1d42-4753-c71a-2e05ae09c1de"
      },
      "outputs": [
        {
          "name": "stdout",
          "output_type": "stream",
          "text": [
            "Enter the Limit of STack3\n",
            "Select your Operation please 1.push 2.pop 3.Isempty 4 peak 5.quit\n",
            "1\n",
            "Enter the Element10\n",
            "[10]\n",
            "Select your Operation please 1.push 2.pop 3.Isempty 4 peak 5.quit\n",
            "1\n",
            "Enter the Element30\n",
            "[10, 30]\n",
            "Select your Operation please 1.push 2.pop 3.Isempty 4 peak 5.quit\n",
            "1\n",
            "Enter the Element40\n",
            "[10, 30, 40]\n",
            "Select your Operation please 1.push 2.pop 3.Isempty 4 peak 5.quit\n",
            "1\n",
            "The Stack is Full\n",
            "Select your Operation please 1.push 2.pop 3.Isempty 4 peak 5.quit\n",
            "4\n",
            "top element is  40\n",
            "Select your Operation please 1.push 2.pop 3.Isempty 4 peak 5.quit\n",
            "5\n"
          ]
        }
      ],
      "source": [
        "stack=[]\n",
        "def push():\n",
        "  if len(stack)==n:\n",
        "    print(\"The Stack is Full\")\n",
        "  else:\n",
        "     ele=int(input(\"Enter the Element\"))\n",
        "     stack.append(ele)\n",
        "     print(stack)\n",
        "\n",
        "def pop_ele():\n",
        "  if not stack:\n",
        "    print(\"Stck is Empty\")\n",
        "  else:\n",
        "    e=stack.pop()\n",
        "    print(\"Removed Element\",e)\n",
        "    print(stack)\n",
        "\n",
        "def isempty():\n",
        "  if stack:\n",
        "    print(\"Stck is not Empty\")\n",
        "  else:\n",
        "    print(\"Stck is Empty\")\n",
        "\n",
        "def peak():\n",
        "  if stack:\n",
        "    print(\"top element is \",stack[-1])\n",
        "  else:\n",
        "    print(\"Stck is Empty\")\n",
        "\n",
        "n=int(input(\"Enter the Limit of STack\"))\n",
        "while True:\n",
        "  print(\"Select your Operation please 1.push 2.pop 3.Isempty 4 peak 5.quit\")\n",
        "  choice=int(input())\n",
        "  if choice==1:\n",
        "    push()\n",
        "  elif choice==2:\n",
        "    pop_ele()\n",
        "  elif choice==3:\n",
        "    isempty()\n",
        "  elif choice==4:\n",
        "    peak()\n",
        "  else:\n",
        "    break\n"
      ]
    },
    {
      "cell_type": "markdown",
      "source": [
        "# **Stack Implementation using DeQue**"
      ],
      "metadata": {
        "id": "HLWdXIk37Mqa"
      }
    },
    {
      "cell_type": "code",
      "source": [
        "from collections import deque\n",
        "stack=deque()\n",
        "def push():\n",
        "  if len(stack)==n:\n",
        "    print(\"The Stack is Full\")\n",
        "  else:\n",
        "     ele=int(input(\"Enter the Element\"))\n",
        "     stack.append(ele)\n",
        "     print(stack)\n",
        "\n",
        "def pop_ele():\n",
        "  if not stack:\n",
        "    print(\"Stck is Empty\")\n",
        "  else:\n",
        "    e=stack.pop()\n",
        "    print(\"Removed Element\",e)\n",
        "    print(stack)\n",
        "\n",
        "def isempty():\n",
        "  if stack:\n",
        "    print(\"Stck is not Empty\")\n",
        "  else:\n",
        "    print(\"Stck is Empty\")\n",
        "\n",
        "def peak():\n",
        "  if stack:\n",
        "    print(\"top element is \",stack[-1])\n",
        "  else:\n",
        "    print(\"Stck is Empty\")\n",
        "\n",
        "n=int(input(\"Enter the Limit of STack\"))\n",
        "while True:\n",
        "  print(\"Select your Operation please 1.push 2.pop 3.Isempty 4 peak 5.quit\")\n",
        "  choice=int(input())\n",
        "  if choice==1:\n",
        "    push()\n",
        "  elif choice==2:\n",
        "    pop_ele()\n",
        "  elif choice==3:\n",
        "    isempty()\n",
        "  elif choice==4:\n",
        "    peak()\n",
        "  else:\n",
        "    break\n"
      ],
      "metadata": {
        "colab": {
          "base_uri": "https://localhost:8080/"
        },
        "id": "H4B_txtF6F41",
        "outputId": "57d236db-939e-47c9-a52f-aac830ca64e2"
      },
      "execution_count": null,
      "outputs": [
        {
          "name": "stdout",
          "output_type": "stream",
          "text": [
            "Enter the Limit of STack5\n",
            "Select your Operation please 1.push 2.pop 3.Isempty 4 peak 5.quit\n",
            "1\n",
            "Enter the Element20\n",
            "deque([20])\n",
            "Select your Operation please 1.push 2.pop 3.Isempty 4 peak 5.quit\n",
            "1\n",
            "Enter the Element201\n",
            "deque([20, 201])\n",
            "Select your Operation please 1.push 2.pop 3.Isempty 4 peak 5.quit\n",
            "1\n",
            "Enter the Element30\n",
            "deque([20, 201, 30])\n",
            "Select your Operation please 1.push 2.pop 3.Isempty 4 peak 5.quit\n",
            "4\n",
            "top element is  30\n",
            "Select your Operation please 1.push 2.pop 3.Isempty 4 peak 5.quit\n",
            "2\n",
            "Removed Element 30\n",
            "deque([20, 201])\n",
            "Select your Operation please 1.push 2.pop 3.Isempty 4 peak 5.quit\n",
            "4\n",
            "top element is  201\n",
            "Select your Operation please 1.push 2.pop 3.Isempty 4 peak 5.quit\n",
            "5\n"
          ]
        }
      ]
    },
    {
      "cell_type": "markdown",
      "source": [
        "# **Stack Implementation using Queue**"
      ],
      "metadata": {
        "id": "afhrHGua7Ujd"
      }
    },
    {
      "cell_type": "code",
      "source": [
        "from queue import LifoQueue\n",
        "stack=LifoQueue(maxsize=n)\n",
        "def push():\n",
        "     ele=int(input(\"Enter the Element\"))\n",
        "     stack.put(ele)\n",
        "     print(stack)\n",
        "\n",
        "def pop_ele():\n",
        "  if not stack:\n",
        "    print(\"Stck is Empty\")\n",
        "  else:\n",
        "    e=stack.get()\n",
        "    print(\"Removed Element\",e)\n",
        "    print(stack)\n",
        "\n",
        "def isempty():\n",
        "  if stack:\n",
        "    print(\"Stck is not Empty\")\n",
        "  else:\n",
        "    print(\"Stck is Empty\")\n",
        "\n",
        "def peak():\n",
        "  if stack:\n",
        "    print(\"top element is \",stack[-1])\n",
        "  else:\n",
        "    print(\"Stck is Empty\")\n",
        "\n",
        "n=int(input(\"Enter the Limit of STack\"))\n",
        "while True:\n",
        "  print(\"Select your Operation please 1.push 2.pop 3.Isempty 4 peak 5.quit\")\n",
        "  choice=int(input())\n",
        "  if choice==1:\n",
        "    push()\n",
        "  elif choice==2:\n",
        "    pop_ele()\n",
        "  elif choice==3:\n",
        "    isempty()\n",
        "  elif choice==4:\n",
        "    peak()\n",
        "  else:\n",
        "    break\n"
      ],
      "metadata": {
        "id": "-44ObD0J7WcZ"
      },
      "execution_count": null,
      "outputs": []
    }
  ]
}