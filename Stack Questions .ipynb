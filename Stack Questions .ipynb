{
  "nbformat": 4,
  "nbformat_minor": 0,
  "metadata": {
    "colab": {
      "provenance": [],
      "authorship_tag": "ABX9TyOfCk6lBNgWqMpgXShk8OjS",
      "include_colab_link": true
    },
    "kernelspec": {
      "name": "python3",
      "display_name": "Python 3"
    },
    "language_info": {
      "name": "python"
    }
  },
  "cells": [
    {
      "cell_type": "markdown",
      "metadata": {
        "id": "view-in-github",
        "colab_type": "text"
      },
      "source": [
        "<a href=\"https://colab.research.google.com/github/Ayush04H/Python-Basics/blob/main/Stack%20Questions%20.ipynb\" target=\"_parent\"><img src=\"https://colab.research.google.com/assets/colab-badge.svg\" alt=\"Open In Colab\"/></a>"
      ]
    },
    {
      "cell_type": "markdown",
      "source": [
        "Valid Parenthesis"
      ],
      "metadata": {
        "id": "IM5OQeaDHJLZ"
      }
    },
    {
      "cell_type": "code",
      "execution_count": 6,
      "metadata": {
        "id": "Wpp8qhSD-V6p"
      },
      "outputs": [],
      "source": [
        "class Solution:\n",
        "    def isValid(self, s: str) -> bool:\n",
        "        stack=[]\n",
        "        openToClose= {\")\":\"(\",\"}\":\"{\",\"]\":\"[\"}\n",
        "\n",
        "        for c in s:\n",
        "            if c in openToClose:\n",
        "                if stack and stack[-1]==openToClose[c]:\n",
        "                    stack.pop()\n",
        "                else:\n",
        "                    return False\n",
        "\n",
        "            else:\n",
        "                stack.append(c)\n",
        "\n",
        "        return True if not stack else False\n",
        "\n",
        "\n"
      ]
    },
    {
      "cell_type": "code",
      "source": [],
      "metadata": {
        "id": "CB9KrJ6eAddX"
      },
      "execution_count": 3,
      "outputs": []
    }
  ]
}