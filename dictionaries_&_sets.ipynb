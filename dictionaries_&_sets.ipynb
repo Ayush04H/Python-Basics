{
  "nbformat": 4,
  "nbformat_minor": 0,
  "metadata": {
    "colab": {
      "provenance": [],
      "authorship_tag": "ABX9TyMX1TcoplqoHEkH+pYadoPA",
      "include_colab_link": true
    },
    "kernelspec": {
      "name": "python3",
      "display_name": "Python 3"
    },
    "language_info": {
      "name": "python"
    }
  },
  "cells": [
    {
      "cell_type": "markdown",
      "metadata": {
        "id": "view-in-github",
        "colab_type": "text"
      },
      "source": [
        "<a href=\"https://colab.research.google.com/github/Ayush04H/Python-Basics/blob/main/dictionaries_%26_sets.ipynb\" target=\"_parent\"><img src=\"https://colab.research.google.com/assets/colab-badge.svg\" alt=\"Open In Colab\"/></a>"
      ]
    },
    {
      "cell_type": "markdown",
      "source": [
        "# **Dictionaries**"
      ],
      "metadata": {
        "id": "C49KZ5aSALzR"
      }
    },
    {
      "cell_type": "markdown",
      "source": [
        "1st way to create"
      ],
      "metadata": {
        "id": "53b8HrhTAT1C"
      }
    },
    {
      "cell_type": "code",
      "execution_count": 3,
      "metadata": {
        "colab": {
          "base_uri": "https://localhost:8080/"
        },
        "id": "T9vSX8bW_nEm",
        "outputId": "706401aa-67c1-4f12-beb6-cae3345bedc8"
      },
      "outputs": [
        {
          "output_type": "execute_result",
          "data": {
            "text/plain": [
              "{'keys': 10, 'keys1': 'Ayush'}"
            ]
          },
          "metadata": {},
          "execution_count": 3
        }
      ],
      "source": [
        "temp={}\n",
        "temp['keys']=10\n",
        "temp['keys1']='Ayush'\n",
        "temp"
      ]
    },
    {
      "cell_type": "markdown",
      "source": [
        "2nd way to create"
      ],
      "metadata": {
        "id": "SPTe0PwJAWJP"
      }
    },
    {
      "cell_type": "code",
      "source": [
        "temp2 = {'keys':10 , 'keys2':'Ayush'}\n",
        "print(temp2)\n",
        "print(temp2.keys())\n",
        "print(temp2.values())"
      ],
      "metadata": {
        "colab": {
          "base_uri": "https://localhost:8080/"
        },
        "id": "DtBtZHGYAXvo",
        "outputId": "d3343c47-824a-4451-c979-e105c0752b3c"
      },
      "execution_count": 6,
      "outputs": [
        {
          "output_type": "stream",
          "name": "stdout",
          "text": [
            "{'keys': 10, 'keys2': 'Ayush'}\n",
            "dict_keys(['keys', 'keys2'])\n",
            "dict_values([10, 'Ayush'])\n"
          ]
        }
      ]
    },
    {
      "cell_type": "markdown",
      "source": [
        "Creating using Dict keword"
      ],
      "metadata": {
        "id": "bMeyuCBuCHuR"
      }
    },
    {
      "cell_type": "code",
      "source": [
        "dict()"
      ],
      "metadata": {
        "colab": {
          "base_uri": "https://localhost:8080/"
        },
        "id": "2aENb4QZCDJm",
        "outputId": "cdd2dfab-9514-4f0c-b3d8-f3d283ec7ca8"
      },
      "execution_count": 7,
      "outputs": [
        {
          "output_type": "execute_result",
          "data": {
            "text/plain": [
              "{}"
            ]
          },
          "metadata": {},
          "execution_count": 7
        }
      ]
    },
    {
      "cell_type": "code",
      "source": [
        "temp3 = {'keys':10 , 'keys2':'Ayush'}\n",
        "num=dict(temp3)\n",
        "num"
      ],
      "metadata": {
        "colab": {
          "base_uri": "https://localhost:8080/"
        },
        "id": "p7zrSmp3CGe2",
        "outputId": "f695ad82-8d96-4e21-f859-bfd6bf087818"
      },
      "execution_count": 8,
      "outputs": [
        {
          "output_type": "execute_result",
          "data": {
            "text/plain": [
              "{'keys': 10, 'keys2': 'Ayush'}"
            ]
          },
          "metadata": {},
          "execution_count": 8
        }
      ]
    },
    {
      "cell_type": "markdown",
      "source": [
        "Delete key value pair of dictionary"
      ],
      "metadata": {
        "id": "S3hwI1NDCd-y"
      }
    },
    {
      "cell_type": "code",
      "source": [
        "del temp3['keys']\n",
        "temp3"
      ],
      "metadata": {
        "colab": {
          "base_uri": "https://localhost:8080/"
        },
        "id": "G6-lB3knCYHO",
        "outputId": "67584429-149f-40d5-a956-bd8f3a071af4"
      },
      "execution_count": 9,
      "outputs": [
        {
          "output_type": "execute_result",
          "data": {
            "text/plain": [
              "{'keys2': 'Ayush'}"
            ]
          },
          "metadata": {},
          "execution_count": 9
        }
      ]
    }
  ]
}