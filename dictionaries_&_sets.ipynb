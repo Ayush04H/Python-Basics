{
  "nbformat": 4,
  "nbformat_minor": 0,
  "metadata": {
    "colab": {
      "provenance": [],
      "authorship_tag": "ABX9TyNrzTksU4vwywI1uDQ0wszV",
      "include_colab_link": true
    },
    "kernelspec": {
      "name": "python3",
      "display_name": "Python 3"
    },
    "language_info": {
      "name": "python"
    }
  },
  "cells": [
    {
      "cell_type": "markdown",
      "metadata": {
        "id": "view-in-github",
        "colab_type": "text"
      },
      "source": [
        "<a href=\"https://colab.research.google.com/github/Ayush04H/Python-Basics/blob/main/dictionaries_%26_sets.ipynb\" target=\"_parent\"><img src=\"https://colab.research.google.com/assets/colab-badge.svg\" alt=\"Open In Colab\"/></a>"
      ]
    },
    {
      "cell_type": "markdown",
      "source": [
        "# **Dictionaries**"
      ],
      "metadata": {
        "id": "C49KZ5aSALzR"
      }
    },
    {
      "cell_type": "markdown",
      "source": [
        "1st way to create"
      ],
      "metadata": {
        "id": "53b8HrhTAT1C"
      }
    },
    {
      "cell_type": "code",
      "execution_count": 1,
      "metadata": {
        "colab": {
          "base_uri": "https://localhost:8080/"
        },
        "id": "T9vSX8bW_nEm",
        "outputId": "993a09d5-b587-46f3-b4c8-87f1ee0d052f"
      },
      "outputs": [
        {
          "output_type": "execute_result",
          "data": {
            "text/plain": [
              "{'keys': 10, 'keys1': 'Ayush'}"
            ]
          },
          "metadata": {},
          "execution_count": 1
        }
      ],
      "source": [
        "temp={}\n",
        "temp['keys']=10\n",
        "temp['keys1']='Ayush'\n",
        "temp"
      ]
    },
    {
      "cell_type": "markdown",
      "source": [
        "2nd way to create"
      ],
      "metadata": {
        "id": "SPTe0PwJAWJP"
      }
    },
    {
      "cell_type": "code",
      "source": [
        "temp2 = {'keys':10 , 'keys2':'Ayush'}\n",
        "print(temp2)\n",
        "print(temp2.keys())\n",
        "print(temp2.values())"
      ],
      "metadata": {
        "colab": {
          "base_uri": "https://localhost:8080/"
        },
        "id": "DtBtZHGYAXvo",
        "outputId": "80b44ff7-e03a-481d-e120-89a2d4e23c61"
      },
      "execution_count": 2,
      "outputs": [
        {
          "output_type": "stream",
          "name": "stdout",
          "text": [
            "{'keys': 10, 'keys2': 'Ayush'}\n",
            "dict_keys(['keys', 'keys2'])\n",
            "dict_values([10, 'Ayush'])\n"
          ]
        }
      ]
    },
    {
      "cell_type": "markdown",
      "source": [
        "Creating using Dict keword"
      ],
      "metadata": {
        "id": "bMeyuCBuCHuR"
      }
    },
    {
      "cell_type": "code",
      "source": [
        "dict()"
      ],
      "metadata": {
        "colab": {
          "base_uri": "https://localhost:8080/"
        },
        "id": "2aENb4QZCDJm",
        "outputId": "a8cbccf7-3365-4a22-fdcd-ccf2add113f4"
      },
      "execution_count": 3,
      "outputs": [
        {
          "output_type": "execute_result",
          "data": {
            "text/plain": [
              "{}"
            ]
          },
          "metadata": {},
          "execution_count": 3
        }
      ]
    },
    {
      "cell_type": "code",
      "source": [
        "temp3 = {'keys':10 , 'keys2':'Ayush'}\n",
        "num=dict(temp3)\n",
        "num"
      ],
      "metadata": {
        "colab": {
          "base_uri": "https://localhost:8080/"
        },
        "id": "p7zrSmp3CGe2",
        "outputId": "dd5b6109-f27d-4bb9-d13c-43e1974535e2"
      },
      "execution_count": 4,
      "outputs": [
        {
          "output_type": "execute_result",
          "data": {
            "text/plain": [
              "{'keys': 10, 'keys2': 'Ayush'}"
            ]
          },
          "metadata": {},
          "execution_count": 4
        }
      ]
    },
    {
      "cell_type": "markdown",
      "source": [
        "3rd way using list of elements"
      ],
      "metadata": {
        "id": "sSw4pvt5Gl81"
      }
    },
    {
      "cell_type": "code",
      "source": [
        "my_dict=dict([('Key',90),('Key2',70),('Key2',\"Hello\"),('Key3',90),('Key4',90)])\n",
        "print(type(my_dict))\n",
        "my_dict"
      ],
      "metadata": {
        "colab": {
          "base_uri": "https://localhost:8080/"
        },
        "id": "5pBLlkQqGrqJ",
        "outputId": "f135e147-3970-4339-9054-029bbafb3ae3"
      },
      "execution_count": 5,
      "outputs": [
        {
          "output_type": "stream",
          "name": "stdout",
          "text": [
            "<class 'dict'>\n"
          ]
        },
        {
          "output_type": "execute_result",
          "data": {
            "text/plain": [
              "{'Key': 90, 'Key2': 'Hello', 'Key3': 90, 'Key4': 90}"
            ]
          },
          "metadata": {},
          "execution_count": 5
        }
      ]
    },
    {
      "cell_type": "markdown",
      "source": [
        "4th way using parallel list of same length"
      ],
      "metadata": {
        "id": "lbJDmBKlHywm"
      }
    },
    {
      "cell_type": "code",
      "source": [
        "a=[1,2,3,4,5]\n",
        "b=[9,8,7,6,5]\n",
        "dict_nary={}\n",
        "for i in range(len(a)):\n",
        "  dict_nary[a[i]]=b[i]\n",
        "\n",
        "dict_nary"
      ],
      "metadata": {
        "colab": {
          "base_uri": "https://localhost:8080/"
        },
        "id": "H13AzohcH7dQ",
        "outputId": "4b4a4787-e3a2-4b65-85c3-b34ac04a2aec"
      },
      "execution_count": 6,
      "outputs": [
        {
          "output_type": "execute_result",
          "data": {
            "text/plain": [
              "{1: 9, 2: 8, 3: 7, 4: 6, 5: 5}"
            ]
          },
          "metadata": {},
          "execution_count": 6
        }
      ]
    },
    {
      "cell_type": "markdown",
      "source": [
        "Delete key value pair of dictionary"
      ],
      "metadata": {
        "id": "S3hwI1NDCd-y"
      }
    },
    {
      "cell_type": "code",
      "source": [
        "del temp3['keys']\n",
        "temp3"
      ],
      "metadata": {
        "colab": {
          "base_uri": "https://localhost:8080/"
        },
        "id": "G6-lB3knCYHO",
        "outputId": "b607a28d-de34-46d8-f451-5d8abb2e90da"
      },
      "execution_count": 7,
      "outputs": [
        {
          "output_type": "execute_result",
          "data": {
            "text/plain": [
              "{'keys2': 'Ayush'}"
            ]
          },
          "metadata": {},
          "execution_count": 7
        }
      ]
    },
    {
      "cell_type": "markdown",
      "source": [
        "dict.fromkey(iterable,range)"
      ],
      "metadata": {
        "id": "JqhJsNszger7"
      }
    },
    {
      "cell_type": "code",
      "source": [
        "list1=[1,2,3,4,5]\n",
        "dict.fromkeys(list1)"
      ],
      "metadata": {
        "colab": {
          "base_uri": "https://localhost:8080/"
        },
        "id": "751jmTQWgwHq",
        "outputId": "7ee73a13-9f3a-45dc-918d-ebf902b4372e"
      },
      "execution_count": 8,
      "outputs": [
        {
          "output_type": "execute_result",
          "data": {
            "text/plain": [
              "{1: None, 2: None, 3: None, 4: None, 5: None}"
            ]
          },
          "metadata": {},
          "execution_count": 8
        }
      ]
    },
    {
      "cell_type": "code",
      "source": [
        "dict.fromkeys(range(1,7),10)"
      ],
      "metadata": {
        "colab": {
          "base_uri": "https://localhost:8080/"
        },
        "id": "7yCHvOZEg7vP",
        "outputId": "7d8f9eb8-c74a-4c6d-b153-92853af7ee13"
      },
      "execution_count": 9,
      "outputs": [
        {
          "output_type": "execute_result",
          "data": {
            "text/plain": [
              "{1: 10, 2: 10, 3: 10, 4: 10, 5: 10, 6: 10}"
            ]
          },
          "metadata": {},
          "execution_count": 9
        }
      ]
    },
    {
      "cell_type": "markdown",
      "source": [
        "setdefault(key,value)"
      ],
      "metadata": {
        "id": "_9JZuJvCh24a"
      }
    },
    {
      "cell_type": "code",
      "source": [
        "students={'john':20,'ria':21,'priya':22}\n",
        "students"
      ],
      "metadata": {
        "colab": {
          "base_uri": "https://localhost:8080/"
        },
        "id": "MniUv743h8oh",
        "outputId": "79fc3b89-50de-469d-b9ad-f4c885650f4a"
      },
      "execution_count": 11,
      "outputs": [
        {
          "output_type": "execute_result",
          "data": {
            "text/plain": [
              "{'john': 20, 'ria': 21, 'priya': 22}"
            ]
          },
          "metadata": {},
          "execution_count": 11
        }
      ]
    },
    {
      "cell_type": "code",
      "source": [
        "print(students.setdefault('Ayush',21))\n",
        "print(students)"
      ],
      "metadata": {
        "colab": {
          "base_uri": "https://localhost:8080/"
        },
        "id": "9h3g99aoiM5U",
        "outputId": "3da139af-d4b6-43a7-c353-0e017b3c8d01"
      },
      "execution_count": 14,
      "outputs": [
        {
          "output_type": "stream",
          "name": "stdout",
          "text": [
            "21\n",
            "{'john': 20, 'ria': 21, 'priya': 22, 'Ayush': 21}\n"
          ]
        }
      ]
    },
    {
      "cell_type": "markdown",
      "source": [
        "dict1.update(dict2)"
      ],
      "metadata": {
        "id": "qdxM7z_Ukdvw"
      }
    },
    {
      "cell_type": "code",
      "source": [
        "dict1={'keys':10 , 'keys2':'Ayush'}\n",
        "dict2= {'keys1':10 , 'keys4':'Ayush'}\n",
        "dict1.update(dict2)\n",
        "dict1"
      ],
      "metadata": {
        "colab": {
          "base_uri": "https://localhost:8080/"
        },
        "id": "Ahi3F4C1iScm",
        "outputId": "c0a0bd5a-bbaa-4571-e5b4-665781863ecc"
      },
      "execution_count": 17,
      "outputs": [
        {
          "output_type": "execute_result",
          "data": {
            "text/plain": [
              "{'keys': 10, 'keys2': 'Ayush', 'keys1': 10, 'keys4': 'Ayush'}"
            ]
          },
          "metadata": {},
          "execution_count": 17
        }
      ]
    },
    {
      "cell_type": "markdown",
      "source": [
        "# **Sets**"
      ],
      "metadata": {
        "id": "UduntVHxn3i2"
      }
    },
    {
      "cell_type": "code",
      "source": [
        "a={1,2,3,4,5,6,7,8,9}\n",
        "type(a)"
      ],
      "metadata": {
        "colab": {
          "base_uri": "https://localhost:8080/"
        },
        "id": "w5ZIof6mn59R",
        "outputId": "39b2afc2-2dc4-48ea-d40b-5c0978d0eee3"
      },
      "execution_count": 18,
      "outputs": [
        {
          "output_type": "execute_result",
          "data": {
            "text/plain": [
              "set"
            ]
          },
          "metadata": {},
          "execution_count": 18
        }
      ]
    },
    {
      "cell_type": "code",
      "source": [
        "b=set()\n",
        "b"
      ],
      "metadata": {
        "colab": {
          "base_uri": "https://localhost:8080/"
        },
        "id": "7VUZEG-boCxm",
        "outputId": "cbd47b58-ec29-4c29-bea1-32281f61f533"
      },
      "execution_count": 20,
      "outputs": [
        {
          "output_type": "execute_result",
          "data": {
            "text/plain": [
              "set()"
            ]
          },
          "metadata": {},
          "execution_count": 20
        }
      ]
    },
    {
      "cell_type": "code",
      "source": [
        "b={1,2,3,4,5,6,7,8,9}\n",
        "b"
      ],
      "metadata": {
        "colab": {
          "base_uri": "https://localhost:8080/"
        },
        "id": "DJ942THnoJ03",
        "outputId": "76ed7a85-dd48-4219-9263-29c50fa85833"
      },
      "execution_count": 24,
      "outputs": [
        {
          "output_type": "execute_result",
          "data": {
            "text/plain": [
              "{1, 2, 3, 4, 5, 6, 7, 8, 9}"
            ]
          },
          "metadata": {},
          "execution_count": 24
        }
      ]
    },
    {
      "cell_type": "markdown",
      "source": [
        "Membership"
      ],
      "metadata": {
        "id": "AGOL1OWToY3H"
      }
    },
    {
      "cell_type": "code",
      "source": [
        "6 in b"
      ],
      "metadata": {
        "colab": {
          "base_uri": "https://localhost:8080/"
        },
        "id": "ykw-D8SioeJD",
        "outputId": "8fa95286-704b-471c-9b5d-9990754b1d44"
      },
      "execution_count": 25,
      "outputs": [
        {
          "output_type": "execute_result",
          "data": {
            "text/plain": [
              "True"
            ]
          },
          "metadata": {},
          "execution_count": 25
        }
      ]
    },
    {
      "cell_type": "markdown",
      "source": [
        "add"
      ],
      "metadata": {
        "id": "HG_HfqoUogjw"
      }
    },
    {
      "cell_type": "code",
      "source": [
        "b.add('Hello')\n",
        "b"
      ],
      "metadata": {
        "colab": {
          "base_uri": "https://localhost:8080/"
        },
        "id": "2tPqy9PDohph",
        "outputId": "dfc13a83-deb7-4a4c-999e-6f1474b6a14c"
      },
      "execution_count": 26,
      "outputs": [
        {
          "output_type": "execute_result",
          "data": {
            "text/plain": [
              "{1, 2, 3, 4, 5, 6, 7, 8, 9, 'Hello'}"
            ]
          },
          "metadata": {},
          "execution_count": 26
        }
      ]
    },
    {
      "cell_type": "code",
      "source": [
        "b.remove(5)\n",
        "b"
      ],
      "metadata": {
        "colab": {
          "base_uri": "https://localhost:8080/"
        },
        "id": "f4AOTEKmom-v",
        "outputId": "a146afb8-de8a-4623-de91-4183d121eba1"
      },
      "execution_count": 27,
      "outputs": [
        {
          "output_type": "execute_result",
          "data": {
            "text/plain": [
              "{1, 2, 3, 4, 6, 7, 8, 9, 'Hello'}"
            ]
          },
          "metadata": {},
          "execution_count": 27
        }
      ]
    }
  ]
}