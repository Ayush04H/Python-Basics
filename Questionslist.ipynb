{
  "nbformat": 4,
  "nbformat_minor": 0,
  "metadata": {
    "colab": {
      "provenance": [],
      "authorship_tag": "ABX9TyNzJS4gzYmUghpS+bDzojbq",
      "include_colab_link": true
    },
    "kernelspec": {
      "name": "python3",
      "display_name": "Python 3"
    },
    "language_info": {
      "name": "python"
    }
  },
  "cells": [
    {
      "cell_type": "markdown",
      "metadata": {
        "id": "view-in-github",
        "colab_type": "text"
      },
      "source": [
        "<a href=\"https://colab.research.google.com/github/Ayush04H/Python-Basics/blob/main/Questionslist.ipynb\" target=\"_parent\"><img src=\"https://colab.research.google.com/assets/colab-badge.svg\" alt=\"Open In Colab\"/></a>"
      ]
    },
    {
      "cell_type": "markdown",
      "source": [
        "addition of elements of list"
      ],
      "metadata": {
        "id": "qYYa1leu2-iS"
      }
    },
    {
      "cell_type": "code",
      "execution_count": null,
      "metadata": {
        "colab": {
          "base_uri": "https://localhost:8080/"
        },
        "id": "YuqobHWt11wn",
        "outputId": "795c106e-f969-41a5-be73-68f1851d114e"
      },
      "outputs": [
        {
          "output_type": "stream",
          "name": "stdout",
          "text": [
            "9\n"
          ]
        }
      ],
      "source": [
        "def sumlist(item):\n",
        "  sum=0\n",
        "  for i in item:\n",
        "    sum+=i\n",
        "\n",
        "  return sum\n",
        "\n",
        "num=[4,2,3]\n",
        "print(sumlist(num))"
      ]
    },
    {
      "cell_type": "markdown",
      "source": [
        "multiplication of elements of list"
      ],
      "metadata": {
        "id": "QCsvZu-63vRy"
      }
    },
    {
      "cell_type": "code",
      "source": [
        "def mullist(item):\n",
        "  sum=1\n",
        "  for i in item:\n",
        "    sum*=i\n",
        "\n",
        "  return sum\n",
        "\n",
        "num=[4,2,3]\n",
        "print(mullist(num))"
      ],
      "metadata": {
        "colab": {
          "base_uri": "https://localhost:8080/"
        },
        "id": "KiX8TLEV3DLO",
        "outputId": "3d1a3b41-8663-4a99-ef7c-462453503ce2"
      },
      "execution_count": null,
      "outputs": [
        {
          "output_type": "stream",
          "name": "stdout",
          "text": [
            "24\n"
          ]
        }
      ]
    },
    {
      "cell_type": "markdown",
      "source": [
        "Largest Num"
      ],
      "metadata": {
        "id": "18lPKymi4FLK"
      }
    },
    {
      "cell_type": "code",
      "source": [
        "def larlist(item):\n",
        "  sum=item[0]\n",
        "  for i in item:\n",
        "    if i>sum:\n",
        "        return i\n",
        "\n",
        "num=[4,2,3,6]\n",
        "print(larlist(num))"
      ],
      "metadata": {
        "colab": {
          "base_uri": "https://localhost:8080/"
        },
        "id": "Z3_sGd1L4OrV",
        "outputId": "6df61ab6-7da7-406e-cb27-0cacabdca59a"
      },
      "execution_count": null,
      "outputs": [
        {
          "output_type": "stream",
          "name": "stdout",
          "text": [
            "6\n"
          ]
        }
      ]
    },
    {
      "cell_type": "markdown",
      "source": [
        "Smallest Num"
      ],
      "metadata": {
        "id": "ZToF4W2b5Y7I"
      }
    },
    {
      "cell_type": "code",
      "source": [
        "def smalllist(item):\n",
        "  sum=item[0]\n",
        "  for i in item:\n",
        "    if i<sum:\n",
        "        return i\n",
        "\n",
        "num=[4,2,3,6]\n",
        "print(smalllist(num))"
      ],
      "metadata": {
        "colab": {
          "base_uri": "https://localhost:8080/"
        },
        "id": "lC7l1QsO5bKW",
        "outputId": "5db8e82f-a766-4a2b-c178-fa00bd3bb330"
      },
      "execution_count": null,
      "outputs": [
        {
          "output_type": "stream",
          "name": "stdout",
          "text": [
            "2\n"
          ]
        }
      ]
    },
    {
      "cell_type": "markdown",
      "source": [
        "Count Number of strings\n"
      ],
      "metadata": {
        "id": "4HpKeKGw6p8E"
      }
    },
    {
      "cell_type": "code",
      "source": [
        "def cntwrd(item):\n",
        "  cnt=0\n",
        "  for i in item:\n",
        "    if len(item)>1 and i[0]== i[-1] :\n",
        "      cnt+=1\n",
        "\n",
        "  return cnt\n",
        "\n",
        "\n",
        "\n",
        "a=['abc', 'xyz', 'aba', '1221']\n",
        "print(cntwrd(a))"
      ],
      "metadata": {
        "colab": {
          "base_uri": "https://localhost:8080/"
        },
        "id": "s0kypUbj6vUA",
        "outputId": "e3ac408d-2e34-442b-e6d2-cdad62017d14"
      },
      "execution_count": null,
      "outputs": [
        {
          "output_type": "stream",
          "name": "stdout",
          "text": [
            "2\n"
          ]
        }
      ]
    }
  ]
}